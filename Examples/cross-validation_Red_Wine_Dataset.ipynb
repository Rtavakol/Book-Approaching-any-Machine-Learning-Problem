{
 "cells": [
  {
   "cell_type": "code",
   "execution_count": 2,
   "id": "a12e3887",
   "metadata": {},
   "outputs": [],
   "source": [
    "# import libraries\n",
    "import matplotlib.pyplot as plt\n",
    "import numpy as np\n",
    "import pandas as pd\n",
    "import seaborn as sns\n",
    "from sklearn import datasets\n",
    "from sklearn import manifold\n",
    "%matplotlib inline"
   ]
  },
  {
   "cell_type": "markdown",
   "id": "141b7d26",
   "metadata": {},
   "source": [
    "Red wine quality dataset has 11 features. Based on them the \n",
    "quality of the wine can be determined. these features are: \n",
    "\n",
    "1- fixed acidity\n",
    "2- volatile acidity\n",
    "3- citric acid\n",
    "4- residual sugar\n",
    "5- chlorides\n",
    "6- free sulfur dioxide\n",
    "7- total sulfur dioxide\n",
    "8- density\n",
    "9- pH\n",
    "10- sulphates\n",
    "11- alcohol"
   ]
  },
  {
   "cell_type": "raw",
   "id": "604f663e",
   "metadata": {},
   "source": []
  }
 ],
 "metadata": {
  "kernelspec": {
   "display_name": "Python 3",
   "language": "python",
   "name": "python3"
  },
  "language_info": {
   "codemirror_mode": {
    "name": "ipython",
    "version": 3
   },
   "file_extension": ".py",
   "mimetype": "text/x-python",
   "name": "python",
   "nbconvert_exporter": "python",
   "pygments_lexer": "ipython3",
   "version": "3.8.8"
  }
 },
 "nbformat": 4,
 "nbformat_minor": 5
}
