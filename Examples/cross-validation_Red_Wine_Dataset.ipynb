{
 "cells": [
  {
   "cell_type": "code",
   "execution_count": 1,
   "id": "f3b4a83a",
   "metadata": {},
   "outputs": [],
   "source": [
    "# import libraries\n",
    "import matplotlib.pyplot as plt\n",
    "import numpy as np\n",
    "import pandas as pd\n",
    "import seaborn as sns\n",
    "from sklearn import datasets\n",
    "from sklearn import manifold\n",
    "\n",
    "# import decision tree model from scikit-learn\n",
    "from sklearn import tree\n",
    "\n",
    "# import metrics to use cross-validation\n",
    "from sklearn import metrics\n",
    "\n",
    "%matplotlib inline"
   ]
  },
  {
   "cell_type": "raw",
   "id": "d3424889",
   "metadata": {},
   "source": [
    "Red wine quality dataset has 11 features. Based on them the \n",
    "quality of the wine can be determined. these features are: \n",
    "\n",
    "1- fixed acidity\n",
    "2- volatile acidity\n",
    "3- citric acid\n",
    "4- residual sugar\n",
    "5- chlorides\n",
    "6- free sulfur dioxide\n",
    "7- total sulfur dioxide\n",
    "8- density\n",
    "9- pH\n",
    "10- sulphates\n",
    "11- alcohol"
   ]
  },
  {
   "cell_type": "code",
   "execution_count": 2,
   "id": "e9f7671b",
   "metadata": {},
   "outputs": [],
   "source": [
    "'''Import dataset\n",
    "The link to the dataset can be found here:\n",
    "https://archive.ics.uci.edu/ml/datasets/wine+quality'''\n",
    "\n",
    "df = pd.read_csv(\"winequality-red.csv\", sep = ';')"
   ]
  },
  {
   "cell_type": "code",
   "execution_count": 3,
   "id": "4cc56b63",
   "metadata": {},
   "outputs": [
    {
     "data": {
      "text/html": [
       "<div>\n",
       "<style scoped>\n",
       "    .dataframe tbody tr th:only-of-type {\n",
       "        vertical-align: middle;\n",
       "    }\n",
       "\n",
       "    .dataframe tbody tr th {\n",
       "        vertical-align: top;\n",
       "    }\n",
       "\n",
       "    .dataframe thead th {\n",
       "        text-align: right;\n",
       "    }\n",
       "</style>\n",
       "<table border=\"1\" class=\"dataframe\">\n",
       "  <thead>\n",
       "    <tr style=\"text-align: right;\">\n",
       "      <th></th>\n",
       "      <th>fixed acidity</th>\n",
       "      <th>volatile acidity</th>\n",
       "      <th>citric acid</th>\n",
       "      <th>residual sugar</th>\n",
       "      <th>chlorides</th>\n",
       "      <th>free sulfur dioxide</th>\n",
       "      <th>total sulfur dioxide</th>\n",
       "      <th>density</th>\n",
       "      <th>pH</th>\n",
       "      <th>sulphates</th>\n",
       "      <th>alcohol</th>\n",
       "      <th>quality</th>\n",
       "    </tr>\n",
       "  </thead>\n",
       "  <tbody>\n",
       "    <tr>\n",
       "      <th>0</th>\n",
       "      <td>7.4</td>\n",
       "      <td>0.70</td>\n",
       "      <td>0.00</td>\n",
       "      <td>1.9</td>\n",
       "      <td>0.076</td>\n",
       "      <td>11.0</td>\n",
       "      <td>34.0</td>\n",
       "      <td>0.9978</td>\n",
       "      <td>3.51</td>\n",
       "      <td>0.56</td>\n",
       "      <td>9.4</td>\n",
       "      <td>5</td>\n",
       "    </tr>\n",
       "    <tr>\n",
       "      <th>1</th>\n",
       "      <td>7.8</td>\n",
       "      <td>0.88</td>\n",
       "      <td>0.00</td>\n",
       "      <td>2.6</td>\n",
       "      <td>0.098</td>\n",
       "      <td>25.0</td>\n",
       "      <td>67.0</td>\n",
       "      <td>0.9968</td>\n",
       "      <td>3.20</td>\n",
       "      <td>0.68</td>\n",
       "      <td>9.8</td>\n",
       "      <td>5</td>\n",
       "    </tr>\n",
       "    <tr>\n",
       "      <th>2</th>\n",
       "      <td>7.8</td>\n",
       "      <td>0.76</td>\n",
       "      <td>0.04</td>\n",
       "      <td>2.3</td>\n",
       "      <td>0.092</td>\n",
       "      <td>15.0</td>\n",
       "      <td>54.0</td>\n",
       "      <td>0.9970</td>\n",
       "      <td>3.26</td>\n",
       "      <td>0.65</td>\n",
       "      <td>9.8</td>\n",
       "      <td>5</td>\n",
       "    </tr>\n",
       "    <tr>\n",
       "      <th>3</th>\n",
       "      <td>11.2</td>\n",
       "      <td>0.28</td>\n",
       "      <td>0.56</td>\n",
       "      <td>1.9</td>\n",
       "      <td>0.075</td>\n",
       "      <td>17.0</td>\n",
       "      <td>60.0</td>\n",
       "      <td>0.9980</td>\n",
       "      <td>3.16</td>\n",
       "      <td>0.58</td>\n",
       "      <td>9.8</td>\n",
       "      <td>6</td>\n",
       "    </tr>\n",
       "    <tr>\n",
       "      <th>4</th>\n",
       "      <td>7.4</td>\n",
       "      <td>0.70</td>\n",
       "      <td>0.00</td>\n",
       "      <td>1.9</td>\n",
       "      <td>0.076</td>\n",
       "      <td>11.0</td>\n",
       "      <td>34.0</td>\n",
       "      <td>0.9978</td>\n",
       "      <td>3.51</td>\n",
       "      <td>0.56</td>\n",
       "      <td>9.4</td>\n",
       "      <td>5</td>\n",
       "    </tr>\n",
       "  </tbody>\n",
       "</table>\n",
       "</div>"
      ],
      "text/plain": [
       "   fixed acidity  volatile acidity  citric acid  residual sugar  chlorides  \\\n",
       "0            7.4              0.70         0.00             1.9      0.076   \n",
       "1            7.8              0.88         0.00             2.6      0.098   \n",
       "2            7.8              0.76         0.04             2.3      0.092   \n",
       "3           11.2              0.28         0.56             1.9      0.075   \n",
       "4            7.4              0.70         0.00             1.9      0.076   \n",
       "\n",
       "   free sulfur dioxide  total sulfur dioxide  density    pH  sulphates  \\\n",
       "0                 11.0                  34.0   0.9978  3.51       0.56   \n",
       "1                 25.0                  67.0   0.9968  3.20       0.68   \n",
       "2                 15.0                  54.0   0.9970  3.26       0.65   \n",
       "3                 17.0                  60.0   0.9980  3.16       0.58   \n",
       "4                 11.0                  34.0   0.9978  3.51       0.56   \n",
       "\n",
       "   alcohol  quality  \n",
       "0      9.4        5  \n",
       "1      9.8        5  \n",
       "2      9.8        5  \n",
       "3      9.8        6  \n",
       "4      9.4        5  "
      ]
     },
     "execution_count": 3,
     "metadata": {},
     "output_type": "execute_result"
    }
   ],
   "source": [
    "df.head()"
   ]
  },
  {
   "cell_type": "code",
   "execution_count": 4,
   "id": "0654a47f",
   "metadata": {},
   "outputs": [
    {
     "data": {
      "text/plain": [
       "(1599, 12)"
      ]
     },
     "execution_count": 4,
     "metadata": {},
     "output_type": "execute_result"
    }
   ],
   "source": [
    "# size of the dataset\n",
    "df.shape"
   ]
  },
  {
   "cell_type": "code",
   "execution_count": 5,
   "id": "af51be50",
   "metadata": {},
   "outputs": [
    {
     "data": {
      "text/plain": [
       "fixed acidity           1599\n",
       "volatile acidity        1599\n",
       "citric acid             1599\n",
       "residual sugar          1599\n",
       "chlorides               1599\n",
       "free sulfur dioxide     1599\n",
       "total sulfur dioxide    1599\n",
       "density                 1599\n",
       "pH                      1599\n",
       "sulphates               1599\n",
       "alcohol                 1599\n",
       "quality                 1599\n",
       "dtype: int64"
      ]
     },
     "execution_count": 5,
     "metadata": {},
     "output_type": "execute_result"
    }
   ],
   "source": [
    "# Any empty value?\n",
    "df.isnull().count()"
   ]
  },
  {
   "cell_type": "code",
   "execution_count": 6,
   "id": "960f9d29",
   "metadata": {},
   "outputs": [
    {
     "data": {
      "text/html": [
       "<div>\n",
       "<style scoped>\n",
       "    .dataframe tbody tr th:only-of-type {\n",
       "        vertical-align: middle;\n",
       "    }\n",
       "\n",
       "    .dataframe tbody tr th {\n",
       "        vertical-align: top;\n",
       "    }\n",
       "\n",
       "    .dataframe thead th {\n",
       "        text-align: right;\n",
       "    }\n",
       "</style>\n",
       "<table border=\"1\" class=\"dataframe\">\n",
       "  <thead>\n",
       "    <tr style=\"text-align: right;\">\n",
       "      <th></th>\n",
       "      <th>fixed acidity</th>\n",
       "      <th>volatile acidity</th>\n",
       "      <th>citric acid</th>\n",
       "      <th>residual sugar</th>\n",
       "      <th>chlorides</th>\n",
       "      <th>free sulfur dioxide</th>\n",
       "      <th>total sulfur dioxide</th>\n",
       "      <th>density</th>\n",
       "      <th>pH</th>\n",
       "      <th>sulphates</th>\n",
       "      <th>alcohol</th>\n",
       "      <th>quality</th>\n",
       "    </tr>\n",
       "  </thead>\n",
       "  <tbody>\n",
       "    <tr>\n",
       "      <th>count</th>\n",
       "      <td>1599.000000</td>\n",
       "      <td>1599.000000</td>\n",
       "      <td>1599.000000</td>\n",
       "      <td>1599.000000</td>\n",
       "      <td>1599.000000</td>\n",
       "      <td>1599.000000</td>\n",
       "      <td>1599.000000</td>\n",
       "      <td>1599.000000</td>\n",
       "      <td>1599.000000</td>\n",
       "      <td>1599.000000</td>\n",
       "      <td>1599.000000</td>\n",
       "      <td>1599.000000</td>\n",
       "    </tr>\n",
       "    <tr>\n",
       "      <th>mean</th>\n",
       "      <td>8.319637</td>\n",
       "      <td>0.527821</td>\n",
       "      <td>0.270976</td>\n",
       "      <td>2.538806</td>\n",
       "      <td>0.087467</td>\n",
       "      <td>15.874922</td>\n",
       "      <td>46.467792</td>\n",
       "      <td>0.996747</td>\n",
       "      <td>3.311113</td>\n",
       "      <td>0.658149</td>\n",
       "      <td>10.422983</td>\n",
       "      <td>5.636023</td>\n",
       "    </tr>\n",
       "    <tr>\n",
       "      <th>std</th>\n",
       "      <td>1.741096</td>\n",
       "      <td>0.179060</td>\n",
       "      <td>0.194801</td>\n",
       "      <td>1.409928</td>\n",
       "      <td>0.047065</td>\n",
       "      <td>10.460157</td>\n",
       "      <td>32.895324</td>\n",
       "      <td>0.001887</td>\n",
       "      <td>0.154386</td>\n",
       "      <td>0.169507</td>\n",
       "      <td>1.065668</td>\n",
       "      <td>0.807569</td>\n",
       "    </tr>\n",
       "    <tr>\n",
       "      <th>min</th>\n",
       "      <td>4.600000</td>\n",
       "      <td>0.120000</td>\n",
       "      <td>0.000000</td>\n",
       "      <td>0.900000</td>\n",
       "      <td>0.012000</td>\n",
       "      <td>1.000000</td>\n",
       "      <td>6.000000</td>\n",
       "      <td>0.990070</td>\n",
       "      <td>2.740000</td>\n",
       "      <td>0.330000</td>\n",
       "      <td>8.400000</td>\n",
       "      <td>3.000000</td>\n",
       "    </tr>\n",
       "    <tr>\n",
       "      <th>25%</th>\n",
       "      <td>7.100000</td>\n",
       "      <td>0.390000</td>\n",
       "      <td>0.090000</td>\n",
       "      <td>1.900000</td>\n",
       "      <td>0.070000</td>\n",
       "      <td>7.000000</td>\n",
       "      <td>22.000000</td>\n",
       "      <td>0.995600</td>\n",
       "      <td>3.210000</td>\n",
       "      <td>0.550000</td>\n",
       "      <td>9.500000</td>\n",
       "      <td>5.000000</td>\n",
       "    </tr>\n",
       "    <tr>\n",
       "      <th>50%</th>\n",
       "      <td>7.900000</td>\n",
       "      <td>0.520000</td>\n",
       "      <td>0.260000</td>\n",
       "      <td>2.200000</td>\n",
       "      <td>0.079000</td>\n",
       "      <td>14.000000</td>\n",
       "      <td>38.000000</td>\n",
       "      <td>0.996750</td>\n",
       "      <td>3.310000</td>\n",
       "      <td>0.620000</td>\n",
       "      <td>10.200000</td>\n",
       "      <td>6.000000</td>\n",
       "    </tr>\n",
       "    <tr>\n",
       "      <th>75%</th>\n",
       "      <td>9.200000</td>\n",
       "      <td>0.640000</td>\n",
       "      <td>0.420000</td>\n",
       "      <td>2.600000</td>\n",
       "      <td>0.090000</td>\n",
       "      <td>21.000000</td>\n",
       "      <td>62.000000</td>\n",
       "      <td>0.997835</td>\n",
       "      <td>3.400000</td>\n",
       "      <td>0.730000</td>\n",
       "      <td>11.100000</td>\n",
       "      <td>6.000000</td>\n",
       "    </tr>\n",
       "    <tr>\n",
       "      <th>max</th>\n",
       "      <td>15.900000</td>\n",
       "      <td>1.580000</td>\n",
       "      <td>1.000000</td>\n",
       "      <td>15.500000</td>\n",
       "      <td>0.611000</td>\n",
       "      <td>72.000000</td>\n",
       "      <td>289.000000</td>\n",
       "      <td>1.003690</td>\n",
       "      <td>4.010000</td>\n",
       "      <td>2.000000</td>\n",
       "      <td>14.900000</td>\n",
       "      <td>8.000000</td>\n",
       "    </tr>\n",
       "  </tbody>\n",
       "</table>\n",
       "</div>"
      ],
      "text/plain": [
       "       fixed acidity  volatile acidity  citric acid  residual sugar  \\\n",
       "count    1599.000000       1599.000000  1599.000000     1599.000000   \n",
       "mean        8.319637          0.527821     0.270976        2.538806   \n",
       "std         1.741096          0.179060     0.194801        1.409928   \n",
       "min         4.600000          0.120000     0.000000        0.900000   \n",
       "25%         7.100000          0.390000     0.090000        1.900000   \n",
       "50%         7.900000          0.520000     0.260000        2.200000   \n",
       "75%         9.200000          0.640000     0.420000        2.600000   \n",
       "max        15.900000          1.580000     1.000000       15.500000   \n",
       "\n",
       "         chlorides  free sulfur dioxide  total sulfur dioxide      density  \\\n",
       "count  1599.000000          1599.000000           1599.000000  1599.000000   \n",
       "mean      0.087467            15.874922             46.467792     0.996747   \n",
       "std       0.047065            10.460157             32.895324     0.001887   \n",
       "min       0.012000             1.000000              6.000000     0.990070   \n",
       "25%       0.070000             7.000000             22.000000     0.995600   \n",
       "50%       0.079000            14.000000             38.000000     0.996750   \n",
       "75%       0.090000            21.000000             62.000000     0.997835   \n",
       "max       0.611000            72.000000            289.000000     1.003690   \n",
       "\n",
       "                pH    sulphates      alcohol      quality  \n",
       "count  1599.000000  1599.000000  1599.000000  1599.000000  \n",
       "mean      3.311113     0.658149    10.422983     5.636023  \n",
       "std       0.154386     0.169507     1.065668     0.807569  \n",
       "min       2.740000     0.330000     8.400000     3.000000  \n",
       "25%       3.210000     0.550000     9.500000     5.000000  \n",
       "50%       3.310000     0.620000    10.200000     6.000000  \n",
       "75%       3.400000     0.730000    11.100000     6.000000  \n",
       "max       4.010000     2.000000    14.900000     8.000000  "
      ]
     },
     "execution_count": 6,
     "metadata": {},
     "output_type": "execute_result"
    }
   ],
   "source": [
    "df.describe()"
   ]
  },
  {
   "cell_type": "code",
   "execution_count": 7,
   "id": "e64a7d00",
   "metadata": {},
   "outputs": [
    {
     "data": {
      "text/plain": [
       "array([5, 6, 7, 4, 8, 3], dtype=int64)"
      ]
     },
     "execution_count": 7,
     "metadata": {},
     "output_type": "execute_result"
    }
   ],
   "source": [
    "# quality of wine is graded from 0 to 10 but this dataset hase only 6 grades.\n",
    "# so we can classify them from 0 to 5\n",
    "df.quality.unique()"
   ]
  },
  {
   "cell_type": "code",
   "execution_count": 8,
   "id": "353d0beb",
   "metadata": {},
   "outputs": [],
   "source": [
    "# We need a dictionary to map 0-5 into unique values of quality grades.\n",
    "quality_dic = {3:0, 4:1, 5:2, 6:3, 7:4, 8:5}"
   ]
  },
  {
   "cell_type": "code",
   "execution_count": 9,
   "id": "7fd35667",
   "metadata": {},
   "outputs": [],
   "source": [
    "# Lets change quality grades according to our dictionary\n",
    "df['quality'] = df.quality.map(quality_dic)"
   ]
  },
  {
   "cell_type": "code",
   "execution_count": 10,
   "id": "f0ad2299",
   "metadata": {},
   "outputs": [
    {
     "data": {
      "text/html": [
       "<div>\n",
       "<style scoped>\n",
       "    .dataframe tbody tr th:only-of-type {\n",
       "        vertical-align: middle;\n",
       "    }\n",
       "\n",
       "    .dataframe tbody tr th {\n",
       "        vertical-align: top;\n",
       "    }\n",
       "\n",
       "    .dataframe thead th {\n",
       "        text-align: right;\n",
       "    }\n",
       "</style>\n",
       "<table border=\"1\" class=\"dataframe\">\n",
       "  <thead>\n",
       "    <tr style=\"text-align: right;\">\n",
       "      <th></th>\n",
       "      <th>fixed acidity</th>\n",
       "      <th>volatile acidity</th>\n",
       "      <th>citric acid</th>\n",
       "      <th>residual sugar</th>\n",
       "      <th>chlorides</th>\n",
       "      <th>free sulfur dioxide</th>\n",
       "      <th>total sulfur dioxide</th>\n",
       "      <th>density</th>\n",
       "      <th>pH</th>\n",
       "      <th>sulphates</th>\n",
       "      <th>alcohol</th>\n",
       "      <th>quality</th>\n",
       "    </tr>\n",
       "  </thead>\n",
       "  <tbody>\n",
       "    <tr>\n",
       "      <th>0</th>\n",
       "      <td>7.4</td>\n",
       "      <td>0.70</td>\n",
       "      <td>0.00</td>\n",
       "      <td>1.9</td>\n",
       "      <td>0.076</td>\n",
       "      <td>11.0</td>\n",
       "      <td>34.0</td>\n",
       "      <td>0.9978</td>\n",
       "      <td>3.51</td>\n",
       "      <td>0.56</td>\n",
       "      <td>9.4</td>\n",
       "      <td>2</td>\n",
       "    </tr>\n",
       "    <tr>\n",
       "      <th>1</th>\n",
       "      <td>7.8</td>\n",
       "      <td>0.88</td>\n",
       "      <td>0.00</td>\n",
       "      <td>2.6</td>\n",
       "      <td>0.098</td>\n",
       "      <td>25.0</td>\n",
       "      <td>67.0</td>\n",
       "      <td>0.9968</td>\n",
       "      <td>3.20</td>\n",
       "      <td>0.68</td>\n",
       "      <td>9.8</td>\n",
       "      <td>2</td>\n",
       "    </tr>\n",
       "    <tr>\n",
       "      <th>2</th>\n",
       "      <td>7.8</td>\n",
       "      <td>0.76</td>\n",
       "      <td>0.04</td>\n",
       "      <td>2.3</td>\n",
       "      <td>0.092</td>\n",
       "      <td>15.0</td>\n",
       "      <td>54.0</td>\n",
       "      <td>0.9970</td>\n",
       "      <td>3.26</td>\n",
       "      <td>0.65</td>\n",
       "      <td>9.8</td>\n",
       "      <td>2</td>\n",
       "    </tr>\n",
       "    <tr>\n",
       "      <th>3</th>\n",
       "      <td>11.2</td>\n",
       "      <td>0.28</td>\n",
       "      <td>0.56</td>\n",
       "      <td>1.9</td>\n",
       "      <td>0.075</td>\n",
       "      <td>17.0</td>\n",
       "      <td>60.0</td>\n",
       "      <td>0.9980</td>\n",
       "      <td>3.16</td>\n",
       "      <td>0.58</td>\n",
       "      <td>9.8</td>\n",
       "      <td>3</td>\n",
       "    </tr>\n",
       "    <tr>\n",
       "      <th>4</th>\n",
       "      <td>7.4</td>\n",
       "      <td>0.70</td>\n",
       "      <td>0.00</td>\n",
       "      <td>1.9</td>\n",
       "      <td>0.076</td>\n",
       "      <td>11.0</td>\n",
       "      <td>34.0</td>\n",
       "      <td>0.9978</td>\n",
       "      <td>3.51</td>\n",
       "      <td>0.56</td>\n",
       "      <td>9.4</td>\n",
       "      <td>2</td>\n",
       "    </tr>\n",
       "  </tbody>\n",
       "</table>\n",
       "</div>"
      ],
      "text/plain": [
       "   fixed acidity  volatile acidity  citric acid  residual sugar  chlorides  \\\n",
       "0            7.4              0.70         0.00             1.9      0.076   \n",
       "1            7.8              0.88         0.00             2.6      0.098   \n",
       "2            7.8              0.76         0.04             2.3      0.092   \n",
       "3           11.2              0.28         0.56             1.9      0.075   \n",
       "4            7.4              0.70         0.00             1.9      0.076   \n",
       "\n",
       "   free sulfur dioxide  total sulfur dioxide  density    pH  sulphates  \\\n",
       "0                 11.0                  34.0   0.9978  3.51       0.56   \n",
       "1                 25.0                  67.0   0.9968  3.20       0.68   \n",
       "2                 15.0                  54.0   0.9970  3.26       0.65   \n",
       "3                 17.0                  60.0   0.9980  3.16       0.58   \n",
       "4                 11.0                  34.0   0.9978  3.51       0.56   \n",
       "\n",
       "   alcohol  quality  \n",
       "0      9.4        2  \n",
       "1      9.8        2  \n",
       "2      9.8        2  \n",
       "3      9.8        3  \n",
       "4      9.4        2  "
      ]
     },
     "execution_count": 10,
     "metadata": {},
     "output_type": "execute_result"
    }
   ],
   "source": [
    "# Now we see that quality is graded from 0-5\n",
    "df.head()"
   ]
  },
  {
   "cell_type": "code",
   "execution_count": 11,
   "id": "940bfae9",
   "metadata": {},
   "outputs": [
    {
     "data": {
      "text/html": [
       "<div>\n",
       "<style scoped>\n",
       "    .dataframe tbody tr th:only-of-type {\n",
       "        vertical-align: middle;\n",
       "    }\n",
       "\n",
       "    .dataframe tbody tr th {\n",
       "        vertical-align: top;\n",
       "    }\n",
       "\n",
       "    .dataframe thead th {\n",
       "        text-align: right;\n",
       "    }\n",
       "</style>\n",
       "<table border=\"1\" class=\"dataframe\">\n",
       "  <thead>\n",
       "    <tr style=\"text-align: right;\">\n",
       "      <th></th>\n",
       "      <th>fixed acidity</th>\n",
       "      <th>volatile acidity</th>\n",
       "      <th>citric acid</th>\n",
       "      <th>residual sugar</th>\n",
       "      <th>chlorides</th>\n",
       "      <th>free sulfur dioxide</th>\n",
       "      <th>total sulfur dioxide</th>\n",
       "      <th>density</th>\n",
       "      <th>pH</th>\n",
       "      <th>sulphates</th>\n",
       "      <th>alcohol</th>\n",
       "      <th>quality</th>\n",
       "    </tr>\n",
       "  </thead>\n",
       "  <tbody>\n",
       "    <tr>\n",
       "      <th>0</th>\n",
       "      <td>11.0</td>\n",
       "      <td>0.20</td>\n",
       "      <td>0.48</td>\n",
       "      <td>2.00</td>\n",
       "      <td>0.343</td>\n",
       "      <td>6.0</td>\n",
       "      <td>18.0</td>\n",
       "      <td>0.99790</td>\n",
       "      <td>3.30</td>\n",
       "      <td>0.71</td>\n",
       "      <td>10.5</td>\n",
       "      <td>2</td>\n",
       "    </tr>\n",
       "    <tr>\n",
       "      <th>1</th>\n",
       "      <td>7.8</td>\n",
       "      <td>0.55</td>\n",
       "      <td>0.35</td>\n",
       "      <td>2.20</td>\n",
       "      <td>0.074</td>\n",
       "      <td>21.0</td>\n",
       "      <td>66.0</td>\n",
       "      <td>0.99740</td>\n",
       "      <td>3.25</td>\n",
       "      <td>0.56</td>\n",
       "      <td>9.2</td>\n",
       "      <td>2</td>\n",
       "    </tr>\n",
       "    <tr>\n",
       "      <th>2</th>\n",
       "      <td>9.8</td>\n",
       "      <td>0.66</td>\n",
       "      <td>0.39</td>\n",
       "      <td>3.20</td>\n",
       "      <td>0.083</td>\n",
       "      <td>21.0</td>\n",
       "      <td>59.0</td>\n",
       "      <td>0.99890</td>\n",
       "      <td>3.37</td>\n",
       "      <td>0.71</td>\n",
       "      <td>11.5</td>\n",
       "      <td>4</td>\n",
       "    </tr>\n",
       "    <tr>\n",
       "      <th>3</th>\n",
       "      <td>6.1</td>\n",
       "      <td>0.58</td>\n",
       "      <td>0.23</td>\n",
       "      <td>2.50</td>\n",
       "      <td>0.044</td>\n",
       "      <td>16.0</td>\n",
       "      <td>70.0</td>\n",
       "      <td>0.99352</td>\n",
       "      <td>3.46</td>\n",
       "      <td>0.65</td>\n",
       "      <td>12.5</td>\n",
       "      <td>3</td>\n",
       "    </tr>\n",
       "    <tr>\n",
       "      <th>4</th>\n",
       "      <td>11.9</td>\n",
       "      <td>0.40</td>\n",
       "      <td>0.65</td>\n",
       "      <td>2.15</td>\n",
       "      <td>0.068</td>\n",
       "      <td>7.0</td>\n",
       "      <td>27.0</td>\n",
       "      <td>0.99880</td>\n",
       "      <td>3.06</td>\n",
       "      <td>0.68</td>\n",
       "      <td>11.3</td>\n",
       "      <td>3</td>\n",
       "    </tr>\n",
       "  </tbody>\n",
       "</table>\n",
       "</div>"
      ],
      "text/plain": [
       "   fixed acidity  volatile acidity  citric acid  residual sugar  chlorides  \\\n",
       "0           11.0              0.20         0.48            2.00      0.343   \n",
       "1            7.8              0.55         0.35            2.20      0.074   \n",
       "2            9.8              0.66         0.39            3.20      0.083   \n",
       "3            6.1              0.58         0.23            2.50      0.044   \n",
       "4           11.9              0.40         0.65            2.15      0.068   \n",
       "\n",
       "   free sulfur dioxide  total sulfur dioxide  density    pH  sulphates  \\\n",
       "0                  6.0                  18.0  0.99790  3.30       0.71   \n",
       "1                 21.0                  66.0  0.99740  3.25       0.56   \n",
       "2                 21.0                  59.0  0.99890  3.37       0.71   \n",
       "3                 16.0                  70.0  0.99352  3.46       0.65   \n",
       "4                  7.0                  27.0  0.99880  3.06       0.68   \n",
       "\n",
       "   alcohol  quality  \n",
       "0     10.5        2  \n",
       "1      9.2        2  \n",
       "2     11.5        4  \n",
       "3     12.5        3  \n",
       "4     11.3        3  "
      ]
     },
     "execution_count": 11,
     "metadata": {},
     "output_type": "execute_result"
    }
   ],
   "source": [
    "# Split dataset into test and training, 1000 rows for training and 599 for testing\n",
    "# 1- shuffle dataset\n",
    "df = df.sample(frac = 1).reset_index(drop=True)\n",
    "\n",
    "# Lets check to make sure it is shuffled\n",
    "df.head()"
   ]
  },
  {
   "cell_type": "code",
   "execution_count": 12,
   "id": "d8d150db",
   "metadata": {},
   "outputs": [],
   "source": [
    "df_train = df.head(1000)\n",
    "df_test = df.tail(599)"
   ]
  },
  {
   "cell_type": "markdown",
   "id": "4fb7037b",
   "metadata": {},
   "source": [
    "We train the model using decision tree "
   ]
  },
  {
   "cell_type": "code",
   "execution_count": 13,
   "id": "0261e5db",
   "metadata": {},
   "outputs": [],
   "source": [
    "# Initialize the decision tree classifier\n",
    "clf = tree.DecisionTreeClassifier(max_depth = 3)"
   ]
  },
  {
   "cell_type": "code",
   "execution_count": 14,
   "id": "cbb64a90",
   "metadata": {},
   "outputs": [
    {
     "data": {
      "text/plain": [
       "Index(['fixed acidity', 'volatile acidity', 'citric acid', 'residual sugar',\n",
       "       'chlorides', 'free sulfur dioxide', 'total sulfur dioxide', 'density',\n",
       "       'pH', 'sulphates', 'alcohol', 'quality'],\n",
       "      dtype='object')"
      ]
     },
     "execution_count": 14,
     "metadata": {},
     "output_type": "execute_result"
    }
   ],
   "source": [
    "df.columns"
   ]
  },
  {
   "cell_type": "code",
   "execution_count": 15,
   "id": "84950056",
   "metadata": {},
   "outputs": [],
   "source": [
    "x_train = df_train.iloc[:, :-1]\n",
    "y_train = df_train['quality']\n",
    "\n",
    "x_test = df_test.iloc[:, :-1]\n",
    "y_test = df_test['quality']"
   ]
  },
  {
   "cell_type": "code",
   "execution_count": 16,
   "id": "82012f66",
   "metadata": {},
   "outputs": [
    {
     "data": {
      "text/plain": [
       "DecisionTreeClassifier(max_depth=3)"
      ]
     },
     "execution_count": 16,
     "metadata": {},
     "output_type": "execute_result"
    }
   ],
   "source": [
    "# Fit the model using all 11 features of the dataset\n",
    "clf.fit(x_train, y_train)"
   ]
  },
  {
   "cell_type": "code",
   "execution_count": 17,
   "id": "6d018d42",
   "metadata": {},
   "outputs": [],
   "source": [
    "# Prediction on training and test datasets\n",
    "train_predict = clf.predict(x_train)\n",
    "test_predict = clf.predict(x_test)"
   ]
  },
  {
   "cell_type": "code",
   "execution_count": 18,
   "id": "f22492bb",
   "metadata": {},
   "outputs": [
    {
     "data": {
      "text/plain": [
       "0.57"
      ]
     },
     "execution_count": 18,
     "metadata": {},
     "output_type": "execute_result"
    }
   ],
   "source": [
    "# Accuracy of our predictions on training dataset:\n",
    "train_accuracy = metrics.accuracy_score(y_train, train_predict)\n",
    "train_accuracy"
   ]
  },
  {
   "cell_type": "code",
   "execution_count": 19,
   "id": "3a4d429b",
   "metadata": {},
   "outputs": [
    {
     "data": {
      "text/plain": [
       "0.5459098497495827"
      ]
     },
     "execution_count": 19,
     "metadata": {},
     "output_type": "execute_result"
    }
   ],
   "source": [
    "# Accuracy of our test predictions on testing dataset:\n",
    "test_accuracy = metrics.accuracy_score(y_test, test_predict)\n",
    "test_accuracy"
   ]
  },
  {
   "cell_type": "markdown",
   "id": "5229ccf2",
   "metadata": {},
   "source": [
    "Change Max depth to see what happens for the train and test accuracies"
   ]
  },
  {
   "cell_type": "code",
   "execution_count": 20,
   "id": "d0fff3e7",
   "metadata": {},
   "outputs": [],
   "source": [
    "train_accuracy, test_accuracy= [], []\n",
    "for i in range(1, 25):\n",
    "    \n",
    "    # Initialize the decision tree classifier\n",
    "    clf = tree.DecisionTreeClassifier(max_depth = i)\n",
    "    \n",
    "    # Fit the model using all 11 features of the dataset\n",
    "    clf.fit(x_train, y_train)\n",
    "    \n",
    "    # Prediction on training and test datasets\n",
    "    train_predict = clf.predict(x_train)\n",
    "    test_predict = clf.predict(x_test)\n",
    "    \n",
    "    # Accuracy of our predictions on training dataset:\n",
    "    train_accuracy.append(metrics.accuracy_score(y_train, train_predict))\n",
    "    \n",
    "    # Accuracy of our test predictions on testing dataset:\n",
    "    test_accuracy.append(metrics.accuracy_score(y_test, test_predict))"
   ]
  },
  {
   "cell_type": "code",
   "execution_count": 21,
   "id": "4d522221",
   "metadata": {},
   "outputs": [
    {
     "data": {
      "image/png": "[encoded data removed]",
      "text/plain": [
       "<Figure size 432x288 with 1 Axes>"
      ]
     },
     "metadata": {
      "needs_background": "light"
     },
     "output_type": "display_data"
    }
   ],
   "source": [
    "plt.figure(figsize = (6, 4) )\n",
    "plt.plot(range(1, 25), train_accuracy, marker = '^', label = 'Train')\n",
    "plt.plot(range(1, 25), test_accuracy, marker = 'v', label = 'Test')\n",
    "plt.scatter(np.argmax(test_accuracy)+1, max(test_accuracy), s = 250, marker = '*', color = 'r', label = 'Best Accuracy')\n",
    "plt.legend()\n",
    "plt.grid(which = 'both')\n",
    "plt.xlabel('Max Depth')\n",
    "plt.ylabel('Accuracy')\n",
    "plt.tight_layout()\n",
    "plt.savefig('Red_Wine_Accuracy_vs_Max_depth_Decision_Tree.png', dpi = 300)"
   ]
  },
  {
   "cell_type": "markdown",
   "id": "d9cea8df",
   "metadata": {},
   "source": [
    "## Most popular cross validation techniques\n",
    "### k-fold cross-validation\n",
    "### stratified k-fold cross-validation\n",
    "### hold-out based validation\n",
    "### leave-one-out cross-validation\n",
    "### group k-fold cross-validation"
   ]
  },
  {
   "cell_type": "markdown",
   "id": "413c49ca",
   "metadata": {},
   "source": [
    "Perform k-fold cross-validation"
   ]
  },
  {
   "cell_type": "code",
   "execution_count": 23,
   "id": "c4bc407d",
   "metadata": {},
   "outputs": [],
   "source": [
    "# Import model selection module from scikit-learn \n",
    "from sklearn import model_selection\n",
    "\n",
    " # we create a new column called kfold and fill it with -1\n",
    "df_train['kfold'] = -1\n",
    "\n",
    "# Randomize the rows of the data\n",
    "df_train = df_train.sample(frac=1).reset_index(drop=True)\n",
    "\n",
    "# initiate the kfold class from model_selection module\n",
    "kf = model_selection.KFold(n_splits=5)\n",
    "\n",
    "# fill the new kfold column\n",
    "k = 0\n",
    "for fold, (trn_, val_) in enumerate(kf.split(X=df_train)):\n",
    "    df_train.loc[val_, 'kfold'] = fold\n",
    "\n",
    "    # save the new csv with kfold column \n",
    "df_train.to_csv('train_fold.csv', index=False)"
   ]
  },
  {
   "cell_type": "code",
   "execution_count": 25,
   "id": "bad5e472",
   "metadata": {},
   "outputs": [
    {
     "data": {
      "text/html": [
       "<div>\n",
       "<style scoped>\n",
       "    .dataframe tbody tr th:only-of-type {\n",
       "        vertical-align: middle;\n",
       "    }\n",
       "\n",
       "    .dataframe tbody tr th {\n",
       "        vertical-align: top;\n",
       "    }\n",
       "\n",
       "    .dataframe thead th {\n",
       "        text-align: right;\n",
       "    }\n",
       "</style>\n",
       "<table border=\"1\" class=\"dataframe\">\n",
       "  <thead>\n",
       "    <tr style=\"text-align: right;\">\n",
       "      <th></th>\n",
       "      <th>fixed acidity</th>\n",
       "      <th>volatile acidity</th>\n",
       "      <th>citric acid</th>\n",
       "      <th>residual sugar</th>\n",
       "      <th>chlorides</th>\n",
       "      <th>free sulfur dioxide</th>\n",
       "      <th>total sulfur dioxide</th>\n",
       "      <th>density</th>\n",
       "      <th>pH</th>\n",
       "      <th>sulphates</th>\n",
       "      <th>alcohol</th>\n",
       "      <th>quality</th>\n",
       "      <th>kfold</th>\n",
       "    </tr>\n",
       "  </thead>\n",
       "  <tbody>\n",
       "    <tr>\n",
       "      <th>0</th>\n",
       "      <td>7.0</td>\n",
       "      <td>0.975</td>\n",
       "      <td>0.04</td>\n",
       "      <td>2.0</td>\n",
       "      <td>0.087</td>\n",
       "      <td>12.0</td>\n",
       "      <td>67.0</td>\n",
       "      <td>0.99565</td>\n",
       "      <td>3.35</td>\n",
       "      <td>0.60</td>\n",
       "      <td>9.4</td>\n",
       "      <td>1</td>\n",
       "      <td>0</td>\n",
       "    </tr>\n",
       "    <tr>\n",
       "      <th>1</th>\n",
       "      <td>7.5</td>\n",
       "      <td>0.410</td>\n",
       "      <td>0.15</td>\n",
       "      <td>3.7</td>\n",
       "      <td>0.104</td>\n",
       "      <td>29.0</td>\n",
       "      <td>94.0</td>\n",
       "      <td>0.99786</td>\n",
       "      <td>3.14</td>\n",
       "      <td>0.58</td>\n",
       "      <td>9.1</td>\n",
       "      <td>2</td>\n",
       "      <td>0</td>\n",
       "    </tr>\n",
       "    <tr>\n",
       "      <th>2</th>\n",
       "      <td>9.7</td>\n",
       "      <td>0.320</td>\n",
       "      <td>0.54</td>\n",
       "      <td>2.5</td>\n",
       "      <td>0.094</td>\n",
       "      <td>28.0</td>\n",
       "      <td>83.0</td>\n",
       "      <td>0.99840</td>\n",
       "      <td>3.28</td>\n",
       "      <td>0.82</td>\n",
       "      <td>9.6</td>\n",
       "      <td>2</td>\n",
       "      <td>0</td>\n",
       "    </tr>\n",
       "    <tr>\n",
       "      <th>3</th>\n",
       "      <td>6.4</td>\n",
       "      <td>0.400</td>\n",
       "      <td>0.23</td>\n",
       "      <td>1.6</td>\n",
       "      <td>0.066</td>\n",
       "      <td>5.0</td>\n",
       "      <td>12.0</td>\n",
       "      <td>0.99580</td>\n",
       "      <td>3.34</td>\n",
       "      <td>0.56</td>\n",
       "      <td>9.2</td>\n",
       "      <td>2</td>\n",
       "      <td>0</td>\n",
       "    </tr>\n",
       "    <tr>\n",
       "      <th>4</th>\n",
       "      <td>7.1</td>\n",
       "      <td>0.590</td>\n",
       "      <td>0.01</td>\n",
       "      <td>2.3</td>\n",
       "      <td>0.080</td>\n",
       "      <td>27.0</td>\n",
       "      <td>43.0</td>\n",
       "      <td>0.99550</td>\n",
       "      <td>3.42</td>\n",
       "      <td>0.58</td>\n",
       "      <td>10.7</td>\n",
       "      <td>3</td>\n",
       "      <td>0</td>\n",
       "    </tr>\n",
       "  </tbody>\n",
       "</table>\n",
       "</div>"
      ],
      "text/plain": [
       "   fixed acidity  volatile acidity  citric acid  residual sugar  chlorides  \\\n",
       "0            7.0             0.975         0.04             2.0      0.087   \n",
       "1            7.5             0.410         0.15             3.7      0.104   \n",
       "2            9.7             0.320         0.54             2.5      0.094   \n",
       "3            6.4             0.400         0.23             1.6      0.066   \n",
       "4            7.1             0.590         0.01             2.3      0.080   \n",
       "\n",
       "   free sulfur dioxide  total sulfur dioxide  density    pH  sulphates  \\\n",
       "0                 12.0                  67.0  0.99565  3.35       0.60   \n",
       "1                 29.0                  94.0  0.99786  3.14       0.58   \n",
       "2                 28.0                  83.0  0.99840  3.28       0.82   \n",
       "3                  5.0                  12.0  0.99580  3.34       0.56   \n",
       "4                 27.0                  43.0  0.99550  3.42       0.58   \n",
       "\n",
       "   alcohol  quality  kfold  \n",
       "0      9.4        1      0  \n",
       "1      9.1        2      0  \n",
       "2      9.6        2      0  \n",
       "3      9.2        2      0  \n",
       "4     10.7        3      0  "
      ]
     },
     "execution_count": 25,
     "metadata": {},
     "output_type": "execute_result"
    }
   ],
   "source": [
    "df_train.head()"
   ]
  },
  {
   "cell_type": "code",
   "execution_count": 55,
   "id": "7a2190a6",
   "metadata": {},
   "outputs": [
    {
     "name": "stdout",
     "output_type": "stream",
     "text": [
      "1 [0.54125, 0.5625, 0.5575, 0.54375, 0.55] [0.6, 0.495, 0.515, 0.57, 0.545]\n",
      "2 [0.5475, 0.5625, 0.5575, 0.565, 0.56] [0.58, 0.495, 0.515, 0.53, 0.55]\n",
      "3 [0.58625, 0.6, 0.59375, 0.56875, 0.57125] [0.615, 0.51, 0.5, 0.52, 0.535]\n",
      "4 [0.63375, 0.635, 0.6425, 0.63, 0.62625] [0.575, 0.52, 0.485, 0.51, 0.515]\n",
      "5 [0.69625, 0.68125, 0.685, 0.69625, 0.6675] [0.59, 0.54, 0.495, 0.485, 0.56]\n",
      "6 [0.75375, 0.73125, 0.7375, 0.735, 0.735] [0.6, 0.535, 0.505, 0.535, 0.58]\n",
      "7 [0.79625, 0.77375, 0.795, 0.77375, 0.7925] [0.6, 0.565, 0.495, 0.54, 0.575]\n",
      "8 [0.85, 0.83125, 0.84875, 0.825, 0.84375] [0.575, 0.545, 0.515, 0.56, 0.61]\n",
      "9 [0.89375, 0.88, 0.89625, 0.86125, 0.8925] [0.605, 0.54, 0.545, 0.56, 0.615]\n",
      "10 [0.93375, 0.9075, 0.94, 0.90375, 0.915] [0.595, 0.54, 0.54, 0.62, 0.615]\n",
      "11 [0.955, 0.95, 0.9625, 0.935, 0.94125] [0.635, 0.53, 0.535, 0.575, 0.605]\n",
      "12 [0.9725, 0.97, 0.98125, 0.94875, 0.95875] [0.635, 0.495, 0.56, 0.6, 0.61]\n",
      "13 [0.98375, 0.9825, 0.98875, 0.97, 0.96875] [0.62, 0.505, 0.56, 0.57, 0.6]\n",
      "14 [0.99125, 0.9925, 0.99375, 0.9775, 0.98] [0.64, 0.495, 0.545, 0.585, 0.625]\n",
      "15 [0.99625, 0.99875, 0.99625, 0.98875, 0.9875] [0.64, 0.52, 0.57, 0.61, 0.615]\n",
      "16 [0.99875, 1.0, 0.995, 0.995, 0.99625] [0.615, 0.52, 0.535, 0.595, 0.62]\n",
      "17 [1.0, 1.0, 0.99875, 0.99875, 1.0] [0.66, 0.515, 0.555, 0.58, 0.6]\n",
      "18 [1.0, 1.0, 1.0, 0.99875, 1.0] [0.65, 0.5, 0.57, 0.59, 0.605]\n",
      "19 [1.0, 1.0, 1.0, 1.0, 1.0] [0.63, 0.515, 0.55, 0.605, 0.595]\n",
      "20 [1.0, 1.0, 1.0, 1.0, 1.0] [0.615, 0.525, 0.58, 0.605, 0.645]\n",
      "21 [1.0, 1.0, 1.0, 1.0, 1.0] [0.625, 0.505, 0.525, 0.605, 0.645]\n",
      "22 [1.0, 1.0, 1.0, 1.0, 1.0] [0.63, 0.525, 0.54, 0.6, 0.615]\n",
      "23 [1.0, 1.0, 1.0, 1.0, 1.0] [0.635, 0.55, 0.55, 0.605, 0.61]\n",
      "24 [1.0, 1.0, 1.0, 1.0, 1.0] [0.635, 0.515, 0.555, 0.57, 0.625]\n"
     ]
    }
   ],
   "source": [
    "train_accuracy_ave, val_accuracy_ave= [], []\n",
    "for i in range(1, 25):\n",
    "    train_accuracy, val_accuracy= [], []\n",
    "    \n",
    "    for k in range(5):\n",
    "        x_train = df_train[df_train['kfold'] != k].iloc[:, :-2]\n",
    "        y_train = df_train[df_train['kfold'] != k]['quality']\n",
    "\n",
    "        x_validation = df_train[df_train['kfold'] == k].iloc[:, :-2]\n",
    "        y_validation = df_train[df_train['kfold'] == k]['quality']\n",
    "        \n",
    "        # Initialize the decision tree classifier\n",
    "        clf = tree.DecisionTreeClassifier(max_depth = i)\n",
    "\n",
    "        # Fit the model using all 11 features of the dataset\n",
    "        clf.fit(x_train, y_train)\n",
    "\n",
    "        # Prediction on training and test datasets\n",
    "        train_predict = clf.predict(x_train)\n",
    "        validation_predict = clf.predict(x_validation)\n",
    "\n",
    "        # Accuracy of our predictions on training dataset:\n",
    "        train_accuracy.append(metrics.accuracy_score(y_train, train_predict))\n",
    "\n",
    "        # Accuracy of our validation predictions on testing dataset:\n",
    "        val_accuracy.append(metrics.accuracy_score(y_validation, validation_predict))\n",
    "    print(i, train_accuracy, val_accuracy)\n",
    "    train_accuracy_ave.append(np.mean(train_accuracy))\n",
    "    val_accuracy_ave.append(np.mean(val_accuracy))"
   ]
  },
  {
   "cell_type": "code",
   "execution_count": 38,
   "id": "6deffb53",
   "metadata": {},
   "outputs": [
    {
     "data": {
      "image/png": "[encoded data removed]",
      "text/plain": [
       "<Figure size 432x288 with 1 Axes>"
      ]
     },
     "metadata": {
      "needs_background": "light"
     },
     "output_type": "display_data"
    }
   ],
   "source": [
    "plt.figure(figsize = (6, 4) )\n",
    "plt.plot(range(1, 25), train_accuracy_ave, marker = '^', label = 'Train')\n",
    "plt.plot(range(1, 25), val_accuracy_ave, marker = 'v', label = 'Validation')\n",
    "plt.scatter(np.argmax(val_accuracy_ave)+1, max(val_accuracy_ave), s = 250, marker = '*', color = 'r', label = 'Best Accuracy')\n",
    "plt.legend()\n",
    "plt.grid(which = 'both')\n",
    "plt.xlabel('Max Depth')\n",
    "plt.ylabel('Accuracy')\n",
    "plt.tight_layout()\n",
    "plt.savefig('Red_Wine_Accuracy_vs_Max_depth_Decision_Tree_5_fold_validation.png', dpi = 300)"
   ]
  },
  {
   "cell_type": "code",
   "execution_count": 41,
   "id": "de77f635",
   "metadata": {},
   "outputs": [
    {
     "name": "stdout",
     "output_type": "stream",
     "text": [
      "Optimum Max Depth is: 13\n"
     ]
    }
   ],
   "source": [
    "# Optimum Max Depth based on 5-fold cross validation is  \n",
    "print('Optimum Max Depth is: {}'.format(np.argmax(val_accuracy_ave)+1))"
   ]
  },
  {
   "cell_type": "code",
   "execution_count": 53,
   "id": "dd8d9df0",
   "metadata": {},
   "outputs": [
    {
     "name": "stdout",
     "output_type": "stream",
     "text": [
      "Accuracy on training dataset is: 0.98\n",
      "Accuracy on test dataset is: 0.57\n"
     ]
    }
   ],
   "source": [
    "# Now we train the model using max depth of 13:\n",
    "    \n",
    "# Initialize the decision tree classifier\n",
    "clf = tree.DecisionTreeClassifier(max_depth = 13)\n",
    "\n",
    "x_train = df_train.iloc[:, :-2]\n",
    "y_train = df_train['quality']\n",
    "\n",
    "# Fit the model using all 11 features of the dataset\n",
    "clf.fit(x_train, y_train)\n",
    "    \n",
    "# Prediction on training and test datasets\n",
    "train_predict = clf.predict(x_train)\n",
    "test_predict = clf.predict(x_test)\n",
    "    \n",
    "# Accuracy of our predictions on training dataset:\n",
    "print('Accuracy on training dataset is: {:.2f}'.format(metrics.accuracy_score(y_train, train_predict)))\n",
    "    \n",
    "# Accuracy of our test predictions on testing dataset:\n",
    "print('Accuracy on test dataset is: {:.2f}'.format(metrics.accuracy_score(y_test, test_predict)))"
   ]
  },
  {
   "cell_type": "markdown",
   "id": "d0d4d233",
   "metadata": {},
   "source": [
    "Stratified k-fold cross-validation"
   ]
  },
  {
   "cell_type": "code",
   "execution_count": 72,
   "id": "e6aba654",
   "metadata": {},
   "outputs": [
    {
     "data": {
      "text/plain": [
       "Text(0, 0.5, 'count')"
      ]
     },
     "execution_count": 72,
     "metadata": {},
     "output_type": "execute_result"
    },
    {
     "data": {
      "image/png": "[encoded data removed]",
      "text/plain": [
       "<Figure size 432x288 with 1 Axes>"
      ]
     },
     "metadata": {
      "needs_background": "light"
     },
     "output_type": "display_data"
    }
   ],
   "source": [
    "#Stratified k-fold cross-validation keeps the ratio of labels in each fold constant\n",
    "# Before using stratified k-fold lets have a look at the distribution of targets\n",
    "# Training dataset\n",
    "b = sns.countplot(x='quality', data=df_train)\n",
    "b.set_xlabel(\"quality\", fontsize=20)\n",
    "b.set_ylabel(\"count\", fontsize=20)"
   ]
  },
  {
   "cell_type": "code",
   "execution_count": 71,
   "id": "051720c9",
   "metadata": {},
   "outputs": [
    {
     "data": {
      "text/plain": [
       "Text(0, 0.5, 'count')"
      ]
     },
     "execution_count": 71,
     "metadata": {},
     "output_type": "execute_result"
    },
    {
     "data": {
      "image/png": "[encoded data removed]",
      "text/plain": [
       "<Figure size 432x288 with 1 Axes>"
      ]
     },
     "metadata": {
      "needs_background": "light"
     },
     "output_type": "display_data"
    }
   ],
   "source": [
    "# Test dataset\n",
    "b = sns.countplot(x='quality', data=df_test)\n",
    "b.set_xlabel(\"quality\", fontsize=20)\n",
    "b.set_ylabel(\"count\", fontsize=20)"
   ]
  },
  {
   "cell_type": "code",
   "execution_count": 64,
   "id": "8e680e98",
   "metadata": {},
   "outputs": [
    {
     "name": "stderr",
     "output_type": "stream",
     "text": [
      "C:\\Users\\rtava\\anaconda3\\lib\\site-packages\\sklearn\\model_selection\\_split.py:666: UserWarning: The least populated class in y has only 4 members, which is less than n_splits=5.\n",
      "  warnings.warn((\"The least populated class in y has only %d\"\n"
     ]
    }
   ],
   "source": [
    "# Import model selection module from scikit-learn \n",
    "from sklearn import model_selection\n",
    "\n",
    " # we create a new column called kfold and fill it with -1\n",
    "df_train['kfold'] = -1\n",
    "\n",
    "# Randomize the rows of the data\n",
    "df_train = df_train.sample(frac=1).reset_index(drop=True)\n",
    "\n",
    "# fetch targets\n",
    "y = df_train['quality'].values\n",
    "\n",
    "# initiate the kfold class from model_selection module\n",
    "kf = model_selection.StratifiedKFold(n_splits=5)\n",
    "\n",
    "# fill the new kfold column\n",
    "for f, (t_, v_) in enumerate(kf.split(X=df_train, y=y)):\n",
    "    df_train.loc[v_, 'kfold'] = f\n",
    "\n",
    "# save the new csv with kfold column \n",
    "df_train.to_csv('train_fold_stratified_k_fold.csv', index=False)"
   ]
  },
  {
   "cell_type": "code",
   "execution_count": 65,
   "id": "7581a78e",
   "metadata": {},
   "outputs": [
    {
     "data": {
      "text/html": [
       "<div>\n",
       "<style scoped>\n",
       "    .dataframe tbody tr th:only-of-type {\n",
       "        vertical-align: middle;\n",
       "    }\n",
       "\n",
       "    .dataframe tbody tr th {\n",
       "        vertical-align: top;\n",
       "    }\n",
       "\n",
       "    .dataframe thead th {\n",
       "        text-align: right;\n",
       "    }\n",
       "</style>\n",
       "<table border=\"1\" class=\"dataframe\">\n",
       "  <thead>\n",
       "    <tr style=\"text-align: right;\">\n",
       "      <th></th>\n",
       "      <th>fixed acidity</th>\n",
       "      <th>volatile acidity</th>\n",
       "      <th>citric acid</th>\n",
       "      <th>residual sugar</th>\n",
       "      <th>chlorides</th>\n",
       "      <th>free sulfur dioxide</th>\n",
       "      <th>total sulfur dioxide</th>\n",
       "      <th>density</th>\n",
       "      <th>pH</th>\n",
       "      <th>sulphates</th>\n",
       "      <th>alcohol</th>\n",
       "      <th>quality</th>\n",
       "      <th>kfold</th>\n",
       "    </tr>\n",
       "  </thead>\n",
       "  <tbody>\n",
       "    <tr>\n",
       "      <th>0</th>\n",
       "      <td>7.8</td>\n",
       "      <td>0.39</td>\n",
       "      <td>0.42</td>\n",
       "      <td>2.0</td>\n",
       "      <td>0.086</td>\n",
       "      <td>9.0</td>\n",
       "      <td>21.0</td>\n",
       "      <td>0.99526</td>\n",
       "      <td>3.39</td>\n",
       "      <td>0.66</td>\n",
       "      <td>11.6</td>\n",
       "      <td>3</td>\n",
       "      <td>0</td>\n",
       "    </tr>\n",
       "    <tr>\n",
       "      <th>1</th>\n",
       "      <td>7.5</td>\n",
       "      <td>0.59</td>\n",
       "      <td>0.22</td>\n",
       "      <td>1.8</td>\n",
       "      <td>0.082</td>\n",
       "      <td>43.0</td>\n",
       "      <td>60.0</td>\n",
       "      <td>0.99499</td>\n",
       "      <td>3.10</td>\n",
       "      <td>0.42</td>\n",
       "      <td>9.2</td>\n",
       "      <td>2</td>\n",
       "      <td>0</td>\n",
       "    </tr>\n",
       "    <tr>\n",
       "      <th>2</th>\n",
       "      <td>6.4</td>\n",
       "      <td>0.57</td>\n",
       "      <td>0.02</td>\n",
       "      <td>1.8</td>\n",
       "      <td>0.067</td>\n",
       "      <td>4.0</td>\n",
       "      <td>11.0</td>\n",
       "      <td>0.99700</td>\n",
       "      <td>3.46</td>\n",
       "      <td>0.68</td>\n",
       "      <td>9.5</td>\n",
       "      <td>2</td>\n",
       "      <td>0</td>\n",
       "    </tr>\n",
       "    <tr>\n",
       "      <th>3</th>\n",
       "      <td>7.4</td>\n",
       "      <td>0.74</td>\n",
       "      <td>0.07</td>\n",
       "      <td>1.7</td>\n",
       "      <td>0.086</td>\n",
       "      <td>15.0</td>\n",
       "      <td>48.0</td>\n",
       "      <td>0.99502</td>\n",
       "      <td>3.12</td>\n",
       "      <td>0.48</td>\n",
       "      <td>10.0</td>\n",
       "      <td>2</td>\n",
       "      <td>0</td>\n",
       "    </tr>\n",
       "    <tr>\n",
       "      <th>4</th>\n",
       "      <td>8.9</td>\n",
       "      <td>0.62</td>\n",
       "      <td>0.18</td>\n",
       "      <td>3.8</td>\n",
       "      <td>0.176</td>\n",
       "      <td>52.0</td>\n",
       "      <td>145.0</td>\n",
       "      <td>0.99860</td>\n",
       "      <td>3.16</td>\n",
       "      <td>0.88</td>\n",
       "      <td>9.2</td>\n",
       "      <td>2</td>\n",
       "      <td>0</td>\n",
       "    </tr>\n",
       "  </tbody>\n",
       "</table>\n",
       "</div>"
      ],
      "text/plain": [
       "   fixed acidity  volatile acidity  citric acid  residual sugar  chlorides  \\\n",
       "0            7.8              0.39         0.42             2.0      0.086   \n",
       "1            7.5              0.59         0.22             1.8      0.082   \n",
       "2            6.4              0.57         0.02             1.8      0.067   \n",
       "3            7.4              0.74         0.07             1.7      0.086   \n",
       "4            8.9              0.62         0.18             3.8      0.176   \n",
       "\n",
       "   free sulfur dioxide  total sulfur dioxide  density    pH  sulphates  \\\n",
       "0                  9.0                  21.0  0.99526  3.39       0.66   \n",
       "1                 43.0                  60.0  0.99499  3.10       0.42   \n",
       "2                  4.0                  11.0  0.99700  3.46       0.68   \n",
       "3                 15.0                  48.0  0.99502  3.12       0.48   \n",
       "4                 52.0                 145.0  0.99860  3.16       0.88   \n",
       "\n",
       "   alcohol  quality  kfold  \n",
       "0     11.6        3      0  \n",
       "1      9.2        2      0  \n",
       "2      9.5        2      0  \n",
       "3     10.0        2      0  \n",
       "4      9.2        2      0  "
      ]
     },
     "execution_count": 65,
     "metadata": {},
     "output_type": "execute_result"
    }
   ],
   "source": [
    "df_train.head()"
   ]
  },
  {
   "cell_type": "code",
   "execution_count": 66,
   "id": "37a54b29",
   "metadata": {},
   "outputs": [
    {
     "name": "stdout",
     "output_type": "stream",
     "text": [
      "1 [0.54375, 0.54375, 0.555, 0.56625, 0.5525] [0.57, 0.55, 0.525, 0.51, 0.535]\n",
      "2 [0.55375, 0.565, 0.555, 0.57, 0.5525] [0.555, 0.515, 0.525, 0.5, 0.535]\n",
      "3 [0.56375, 0.6, 0.59, 0.61375, 0.585] [0.57, 0.525, 0.505, 0.515, 0.535]\n",
      "4 [0.61875, 0.6325, 0.63625, 0.66125, 0.63375] [0.585, 0.53, 0.51, 0.51, 0.54]\n",
      "5 [0.6575, 0.69125, 0.67625, 0.70125, 0.68625] [0.57, 0.555, 0.525, 0.49, 0.505]\n",
      "6 [0.72125, 0.73375, 0.735, 0.75125, 0.7375] [0.585, 0.55, 0.515, 0.525, 0.52]\n",
      "7 [0.77, 0.7775, 0.795, 0.81125, 0.79375] [0.605, 0.54, 0.535, 0.505, 0.525]\n",
      "8 [0.82125, 0.82, 0.8525, 0.8575, 0.835] [0.6, 0.555, 0.555, 0.505, 0.59]\n",
      "9 [0.85375, 0.85125, 0.895, 0.8975, 0.875] [0.585, 0.555, 0.54, 0.49, 0.59]\n",
      "10 [0.89125, 0.89875, 0.9325, 0.9325, 0.91375] [0.605, 0.565, 0.525, 0.52, 0.57]\n",
      "11 [0.91875, 0.935, 0.95875, 0.96, 0.9425] [0.59, 0.545, 0.53, 0.525, 0.57]\n",
      "12 [0.94125, 0.96375, 0.97375, 0.97375, 0.96125] [0.625, 0.55, 0.55, 0.54, 0.59]\n",
      "13 [0.96, 0.985, 0.98125, 0.98875, 0.97875] [0.57, 0.58, 0.52, 0.55, 0.55]\n",
      "14 [0.97875, 0.99125, 0.99, 0.99625, 0.98625] [0.61, 0.555, 0.55, 0.58, 0.59]\n",
      "15 [0.99375, 0.9975, 0.995, 0.9975, 0.9875] [0.585, 0.585, 0.535, 0.555, 0.605]\n",
      "16 [1.0, 1.0, 0.9975, 1.0, 0.99] [0.585, 0.565, 0.56, 0.565, 0.57]\n",
      "17 [1.0, 1.0, 0.9975, 1.0, 0.99625] [0.605, 0.555, 0.56, 0.565, 0.57]\n",
      "18 [1.0, 1.0, 0.99875, 1.0, 0.99875] [0.6, 0.57, 0.56, 0.565, 0.57]\n",
      "19 [1.0, 1.0, 1.0, 1.0, 1.0] [0.585, 0.565, 0.54, 0.545, 0.565]\n",
      "20 [1.0, 1.0, 1.0, 1.0, 1.0] [0.585, 0.555, 0.565, 0.55, 0.585]\n",
      "21 [1.0, 1.0, 1.0, 1.0, 1.0] [0.6, 0.57, 0.525, 0.555, 0.575]\n",
      "22 [1.0, 1.0, 1.0, 1.0, 1.0] [0.63, 0.575, 0.525, 0.565, 0.595]\n",
      "23 [1.0, 1.0, 1.0, 1.0, 1.0] [0.59, 0.55, 0.55, 0.555, 0.55]\n",
      "24 [1.0, 1.0, 1.0, 1.0, 1.0] [0.61, 0.58, 0.54, 0.555, 0.585]\n"
     ]
    }
   ],
   "source": [
    "train_accuracy_ave, val_accuracy_ave= [], []\n",
    "for i in range(1, 25):\n",
    "    train_accuracy, val_accuracy= [], []\n",
    "    \n",
    "    for k in range(5):\n",
    "        x_train = df_train[df_train['kfold'] != k].iloc[:, :-2]\n",
    "        y_train = df_train[df_train['kfold'] != k]['quality']\n",
    "\n",
    "        x_validation = df_train[df_train['kfold'] == k].iloc[:, :-2]\n",
    "        y_validation = df_train[df_train['kfold'] == k]['quality']\n",
    "        \n",
    "        # Initialize the decision tree classifier\n",
    "        clf = tree.DecisionTreeClassifier(max_depth = i)\n",
    "\n",
    "        # Fit the model using all 11 features of the dataset\n",
    "        clf.fit(x_train, y_train)\n",
    "\n",
    "        # Prediction on training and test datasets\n",
    "        train_predict = clf.predict(x_train)\n",
    "        validation_predict = clf.predict(x_validation)\n",
    "\n",
    "        # Accuracy of our predictions on training dataset:\n",
    "        train_accuracy.append(metrics.accuracy_score(y_train, train_predict))\n",
    "\n",
    "        # Accuracy of our validation predictions on testing dataset:\n",
    "        val_accuracy.append(metrics.accuracy_score(y_validation, validation_predict))\n",
    "    print(i, train_accuracy, val_accuracy)\n",
    "    train_accuracy_ave.append(np.mean(train_accuracy))\n",
    "    val_accuracy_ave.append(np.mean(val_accuracy))"
   ]
  },
  {
   "cell_type": "code",
   "execution_count": 67,
   "id": "cf45d346",
   "metadata": {},
   "outputs": [
    {
     "data": {
      "image/png": "[encoded data removed]",
      "text/plain": [
       "<Figure size 432x288 with 1 Axes>"
      ]
     },
     "metadata": {
      "needs_background": "light"
     },
     "output_type": "display_data"
    }
   ],
   "source": [
    "plt.figure(figsize = (6, 4) )\n",
    "plt.plot(range(1, 25), train_accuracy_ave, marker = '^', label = 'Train')\n",
    "plt.plot(range(1, 25), val_accuracy_ave, marker = 'v', label = 'Validation')\n",
    "plt.scatter(np.argmax(val_accuracy_ave)+1, max(val_accuracy_ave), s = 250, marker = '*', color = 'r', label = 'Best Accuracy')\n",
    "plt.legend()\n",
    "plt.grid(which = 'both')\n",
    "plt.xlabel('Max Depth')\n",
    "plt.ylabel('Accuracy')\n",
    "plt.tight_layout()\n",
    "plt.savefig('Red_Wine_Accuracy_vs_Max_depth_Decision_Tree_stratified_5_fold_validation.png', dpi = 300)"
   ]
  },
  {
   "cell_type": "code",
   "execution_count": 68,
   "id": "e0f97bed",
   "metadata": {},
   "outputs": [
    {
     "name": "stdout",
     "output_type": "stream",
     "text": [
      "Optimum Max Depth is: 22\n"
     ]
    }
   ],
   "source": [
    "# Optimum Max Depth based on 5-fold cross validation is  \n",
    "print('Optimum Max Depth is: {}'.format(np.argmax(val_accuracy_ave)+1))"
   ]
  },
  {
   "cell_type": "code",
   "execution_count": 69,
   "id": "4f00ee12",
   "metadata": {},
   "outputs": [
    {
     "name": "stdout",
     "output_type": "stream",
     "text": [
      "Accuracy on training dataset is: 1.00\n",
      "Accuracy on test dataset is: 0.58\n"
     ]
    }
   ],
   "source": [
    "# Now we train the model using max depth of 13:\n",
    "    \n",
    "# Initialize the decision tree classifier\n",
    "clf = tree.DecisionTreeClassifier(max_depth = 22)\n",
    "\n",
    "x_train = df_train.iloc[:, :-2]\n",
    "y_train = df_train['quality']\n",
    "\n",
    "# Fit the model using all 11 features of the dataset\n",
    "clf.fit(x_train, y_train)\n",
    "    \n",
    "# Prediction on training and test datasets\n",
    "train_predict = clf.predict(x_train)\n",
    "test_predict = clf.predict(x_test)\n",
    "    \n",
    "# Accuracy of our predictions on training dataset:\n",
    "print('Accuracy on training dataset is: {:.2f}'.format(metrics.accuracy_score(y_train, train_predict)))\n",
    "    \n",
    "# Accuracy of our test predictions on testing dataset:\n",
    "print('Accuracy on test dataset is: {:.2f}'.format(metrics.accuracy_score(y_test, test_predict)))"
   ]
  },
  {
   "cell_type": "code",
   "execution_count": null,
   "id": "56871bef",
   "metadata": {},
   "outputs": [],
   "source": []
  }
 ],
 "metadata": {
  "kernelspec": {
   "display_name": "Python 3",
   "language": "python",
   "name": "python3"
  },
  "language_info": {
   "codemirror_mode": {
    "name": "ipython",
    "version": 3
   },
   "file_extension": ".py",
   "mimetype": "text/x-python",
   "name": "python",
   "nbconvert_exporter": "python",
   "pygments_lexer": "ipython3",
   "version": "3.8.8"
  }
 },
 "nbformat": 4,
 "nbformat_minor": 5
}
